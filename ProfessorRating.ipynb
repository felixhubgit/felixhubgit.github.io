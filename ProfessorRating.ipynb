{
  "nbformat": 4,
  "nbformat_minor": 0,
  "metadata": {
    "colab": {
      "provenance": [],
      "authorship_tag": "ABX9TyPQZJQWv/m5MT8LJCcqJWRV",
      "include_colab_link": true
    },
    "kernelspec": {
      "name": "python3",
      "display_name": "Python 3"
    },
    "language_info": {
      "name": "python"
    }
  },
  "cells": [
    {
      "cell_type": "markdown",
      "metadata": {
        "id": "view-in-github",
        "colab_type": "text"
      },
      "source": [
        "<a href=\"https://colab.research.google.com/github/felixhubgit/felixhubgit.github.io/blob/main/ProfessorRating.ipynb\" target=\"_parent\"><img src=\"https://colab.research.google.com/assets/colab-badge.svg\" alt=\"Open In Colab\"/></a>"
      ]
    },
    {
      "cell_type": "code",
      "execution_count": null,
      "metadata": {
        "id": "tfd5QEoQcF-Y",
        "colab": {
          "base_uri": "https://localhost:8080/"
        },
        "outputId": "5f87e6e1-253f-4d57-e0c2-46c5582e1436"
      },
      "outputs": [
        {
          "output_type": "stream",
          "name": "stdout",
          "text": [
            "Populating the interactive namespace from numpy and matplotlib\n"
          ]
        }
      ],
      "source": [
        "%pylab inline"
      ]
    },
    {
      "cell_type": "code",
      "source": [
        "import pandas as pd\n",
        "import numpy as np\n",
        "import altair as alt"
      ],
      "metadata": {
        "id": "tQFMAYvmj8b-"
      },
      "execution_count": null,
      "outputs": []
    },
    {
      "cell_type": "code",
      "source": [
        "df = pd.read_csv('combined_with_departments.csv')"
      ],
      "metadata": {
        "id": "6miyoo_Ij_Sm"
      },
      "execution_count": null,
      "outputs": []
    },
    {
      "cell_type": "code",
      "source": [
        "df.head()"
      ],
      "metadata": {
        "id": "uLxqcht4kKiF"
      },
      "execution_count": null,
      "outputs": []
    },
    {
      "cell_type": "code",
      "source": [
        "df.columns.tolist()"
      ],
      "metadata": {
        "id": "9WP57AVykOvA"
      },
      "execution_count": null,
      "outputs": []
    },
    {
      "cell_type": "code",
      "source": [
        "departments = df['DEPARTMENT'].unique()"
      ],
      "metadata": {
        "id": "HxPcnnarkY--"
      },
      "execution_count": null,
      "outputs": []
    },
    {
      "cell_type": "code",
      "source": [
        "len(departments)"
      ],
      "metadata": {
        "id": "sSvPEAUNk2Md"
      },
      "execution_count": null,
      "outputs": []
    },
    {
      "cell_type": "code",
      "source": [
        "departments = set(df['DEPARTMENT'].tolist())"
      ],
      "metadata": {
        "id": "bgOGkHIOk53R"
      },
      "execution_count": null,
      "outputs": []
    },
    {
      "cell_type": "code",
      "source": [
        "len(departments)"
      ],
      "metadata": {
        "id": "ohtoUKXxlD8Z"
      },
      "execution_count": null,
      "outputs": []
    },
    {
      "cell_type": "code",
      "source": [
        "departments"
      ],
      "metadata": {
        "id": "anTpCUqQlH3D"
      },
      "execution_count": null,
      "outputs": []
    },
    {
      "cell_type": "code",
      "source": [
        "departments.discard(nan)"
      ],
      "metadata": {
        "id": "TYf-VWp8r9ZC"
      },
      "execution_count": null,
      "outputs": []
    },
    {
      "cell_type": "code",
      "source": [
        "departments"
      ],
      "metadata": {
        "id": "Nvtr3SeysjS1"
      },
      "execution_count": null,
      "outputs": []
    },
    {
      "cell_type": "code",
      "source": [
        "df.dropna(subset=['DEPARTMENT'], inplace=True)"
      ],
      "metadata": {
        "id": "Uv-H9pJ11f3J"
      },
      "execution_count": null,
      "outputs": []
    },
    {
      "cell_type": "code",
      "source": [
        "df.to_csv('modified_file.csv', index=False)"
      ],
      "metadata": {
        "id": "vbY1LQ_M1ldn"
      },
      "execution_count": null,
      "outputs": []
    },
    {
      "cell_type": "code",
      "source": [
        "df"
      ],
      "metadata": {
        "id": "d5LK5iUa1o1U"
      },
      "execution_count": null,
      "outputs": []
    },
    {
      "cell_type": "code",
      "source": [
        "df = df[df['NUM_RATINGS'] != 0]"
      ],
      "metadata": {
        "id": "d9xqfeWq1qF6"
      },
      "execution_count": null,
      "outputs": []
    },
    {
      "cell_type": "code",
      "source": [
        "df"
      ],
      "metadata": {
        "id": "qZ-B_4p33H89"
      },
      "execution_count": null,
      "outputs": []
    },
    {
      "cell_type": "code",
      "source": [
        "df = df.sort_values(by=['NUM_RATINGS', 'RATING', 'ANNUAL_RATE'], ascending=False)"
      ],
      "metadata": {
        "id": "FSyVpSjc3bce"
      },
      "execution_count": null,
      "outputs": []
    },
    {
      "cell_type": "code",
      "source": [
        "df"
      ],
      "metadata": {
        "id": "SXijmki033QL"
      },
      "execution_count": null,
      "outputs": []
    },
    {
      "cell_type": "code",
      "source": [
        "def sort_group(group):\n",
        "    return group.sort_values(by=['ANNUAL_RATE', 'RATING', 'NUM_RATINGS'], ascending=False)"
      ],
      "metadata": {
        "id": "ZDyDQ3lF34X3"
      },
      "execution_count": null,
      "outputs": []
    },
    {
      "cell_type": "code",
      "source": [
        "df = df.groupby('DEPARTMENT', group_keys=False).apply(sort_group)"
      ],
      "metadata": {
        "id": "iXYuGEm-4Fly"
      },
      "execution_count": null,
      "outputs": []
    },
    {
      "cell_type": "code",
      "source": [
        "df"
      ],
      "metadata": {
        "id": "qv-nUpv-4IO0"
      },
      "execution_count": null,
      "outputs": []
    },
    {
      "cell_type": "code",
      "source": [
        "interesting_fields = ['NAME_LAST', 'NAME_FIRST', 'ANNUAL_RATE', 'RATING', 'NUM_RATINGS', 'DEPARTMENT']"
      ],
      "metadata": {
        "id": "E5zAPqC-4MDb"
      },
      "execution_count": null,
      "outputs": []
    },
    {
      "cell_type": "code",
      "source": [
        "df[interesting_fields]"
      ],
      "metadata": {
        "id": "me0kzu2I5Ds4"
      },
      "execution_count": null,
      "outputs": []
    },
    {
      "cell_type": "code",
      "source": [
        "department_counts = df['DEPARTMENT'].value_counts()"
      ],
      "metadata": {
        "id": "yLDLeZ7q5GD_"
      },
      "execution_count": null,
      "outputs": []
    },
    {
      "cell_type": "code",
      "source": [
        "department_counts"
      ],
      "metadata": {
        "id": "35hCI2fz5i_P"
      },
      "execution_count": null,
      "outputs": []
    },
    {
      "cell_type": "code",
      "source": [
        "min_annual_rate = df['ANNUAL_RATE'].min()\n",
        "max_annual_rate = df['ANNUAL_RATE'].max()"
      ],
      "metadata": {
        "id": "d39YNbDj5kwx"
      },
      "execution_count": null,
      "outputs": []
    },
    {
      "cell_type": "code",
      "source": [
        "min_annual_rate"
      ],
      "metadata": {
        "colab": {
          "base_uri": "https://localhost:8080/"
        },
        "id": "R3aEOwO05yz5",
        "outputId": "c55f17d4-384c-48c2-a5c3-572457726be0"
      },
      "execution_count": null,
      "outputs": [
        {
          "output_type": "execute_result",
          "data": {
            "text/plain": [
              "4894.118"
            ]
          },
          "metadata": {},
          "execution_count": 95
        }
      ]
    },
    {
      "cell_type": "code",
      "source": [
        "max_annual_rate"
      ],
      "metadata": {
        "colab": {
          "base_uri": "https://localhost:8080/"
        },
        "id": "zDLcKaX751hg",
        "outputId": "6b3b7bc0-98ec-43c2-e19f-84f577674412"
      },
      "execution_count": null,
      "outputs": [
        {
          "output_type": "execute_result",
          "data": {
            "text/plain": [
              "288006.622"
            ]
          },
          "metadata": {},
          "execution_count": 96
        }
      ]
    },
    {
      "cell_type": "code",
      "source": [
        "department_sum = df.groupby('DEPARTMENT')['ANNUAL_RATE'].sum()"
      ],
      "metadata": {
        "id": "qGzxGVUw52ue"
      },
      "execution_count": null,
      "outputs": []
    },
    {
      "cell_type": "code",
      "source": [
        "pd.set_option('display.max_rows', None)"
      ],
      "metadata": {
        "id": "G3Dzd0n5KsDH"
      },
      "execution_count": null,
      "outputs": []
    },
    {
      "cell_type": "code",
      "source": [
        "department_sum"
      ],
      "metadata": {
        "id": "k3TFgwgW6Gah"
      },
      "execution_count": null,
      "outputs": []
    },
    {
      "cell_type": "code",
      "source": [
        "department_sum = department_sum.sort_values(ascending=False)"
      ],
      "metadata": {
        "id": "0D_ssDuyL7w5"
      },
      "execution_count": null,
      "outputs": []
    },
    {
      "cell_type": "code",
      "source": [
        "department_sum"
      ],
      "metadata": {
        "id": "N5YkJSlUL8_1"
      },
      "execution_count": null,
      "outputs": []
    },
    {
      "cell_type": "code",
      "source": [
        "topTenDep = ['English','Biology','Accounting & Finance','Nursing','Management','Psycology','Mathematics','Computer Science','Management Science & Information Systems','Counseling & School Psychology']"
      ],
      "metadata": {
        "id": "FTwbrbY_NiMy"
      },
      "execution_count": null,
      "outputs": []
    },
    {
      "cell_type": "code",
      "source": [
        "topTenDep"
      ],
      "metadata": {
        "colab": {
          "base_uri": "https://localhost:8080/"
        },
        "id": "RRohyK3EOF6w",
        "outputId": "1b2fa98a-325a-4fc5-dcf6-858756da685c"
      },
      "execution_count": null,
      "outputs": [
        {
          "output_type": "execute_result",
          "data": {
            "text/plain": [
              "['English',\n",
              " 'Biology',\n",
              " 'Accounting & Finance',\n",
              " 'Nursing',\n",
              " 'Management',\n",
              " 'Psycology',\n",
              " 'Mathematics',\n",
              " 'Computer Science',\n",
              " 'Management Science & Information Systems',\n",
              " 'Counseling & School Psychology']"
            ]
          },
          "metadata": {},
          "execution_count": 159
        }
      ]
    },
    {
      "cell_type": "code",
      "source": [
        "topTen_df = df.loc[df['DEPARTMENT'].isin(topTenDep)]"
      ],
      "metadata": {
        "id": "ya8i7G_EOKuU"
      },
      "execution_count": null,
      "outputs": []
    },
    {
      "cell_type": "code",
      "source": [
        "topTen_df[interesting_fields]"
      ],
      "metadata": {
        "id": "xHkGBrtaOi-K"
      },
      "execution_count": null,
      "outputs": []
    },
    {
      "cell_type": "code",
      "source": [
        "engDep = topTen_df[topTen_df['DEPARTMENT'] == 'English']"
      ],
      "metadata": {
        "id": "s1MnM1ACO7Nr"
      },
      "execution_count": null,
      "outputs": []
    },
    {
      "cell_type": "code",
      "source": [
        "len(engDep)"
      ],
      "metadata": {
        "colab": {
          "base_uri": "https://localhost:8080/"
        },
        "id": "hoDZycjrPI4v",
        "outputId": "017e93ce-3d95-4535-e6bb-39559edf72cd"
      },
      "execution_count": null,
      "outputs": [
        {
          "output_type": "execute_result",
          "data": {
            "text/plain": [
              "74"
            ]
          },
          "metadata": {},
          "execution_count": 164
        }
      ]
    },
    {
      "cell_type": "code",
      "source": [
        "average_rate = department_sum / department_counts"
      ],
      "metadata": {
        "id": "1gg0kSij6Ik6"
      },
      "execution_count": null,
      "outputs": []
    },
    {
      "cell_type": "code",
      "source": [
        "average_rate['English']"
      ],
      "metadata": {
        "id": "M4Hfyuil6eyo",
        "colab": {
          "base_uri": "https://localhost:8080/"
        },
        "outputId": "3a569bec-8aba-4eea-ce50-1ce7a3e05f0c"
      },
      "execution_count": null,
      "outputs": [
        {
          "output_type": "execute_result",
          "data": {
            "text/plain": [
              "79290.8972027027"
            ]
          },
          "metadata": {},
          "execution_count": 165
        }
      ]
    },
    {
      "cell_type": "code",
      "source": [
        "average_rate[1]"
      ],
      "metadata": {
        "colab": {
          "base_uri": "https://localhost:8080/"
        },
        "id": "-RnBLUF06pHR",
        "outputId": "8137f4ea-bc15-49f0-a050-d65449c88d15"
      },
      "execution_count": null,
      "outputs": [
        {
          "output_type": "execute_result",
          "data": {
            "text/plain": [
              "83857.7886"
            ]
          },
          "metadata": {},
          "execution_count": 105
        }
      ]
    },
    {
      "cell_type": "code",
      "source": [
        "df[interesting_fields]"
      ],
      "metadata": {
        "id": "Y_D78Pns8jXE"
      },
      "execution_count": null,
      "outputs": []
    },
    {
      "source": [
        "from matplotlib import pyplot as plt\n",
        "_df_4.plot(kind='scatter', x='RATING', y='NUM_RATINGS', s=32, alpha=.8)\n",
        "plt.gca().spines[['top', 'right',]].set_visible(False)"
      ],
      "cell_type": "code",
      "metadata": {
        "id": "LfTlP5ZQ8qr5"
      },
      "execution_count": null,
      "outputs": []
    },
    {
      "cell_type": "code",
      "source": [
        "compSci_df = df[df['DEPARTMENT'] == 'Computer Science']"
      ],
      "metadata": {
        "id": "vZnrG2RL9Dmv"
      },
      "execution_count": null,
      "outputs": []
    },
    {
      "cell_type": "code",
      "source": [
        "compSci_df[interesting_fields]"
      ],
      "metadata": {
        "id": "iIuCwQME_TYp"
      },
      "execution_count": null,
      "outputs": []
    },
    {
      "cell_type": "code",
      "source": [
        "chart = alt.Chart(compSci_df).mark_bar().encode(\n",
        "    x=alt.X('NAME_LAST:N', title='Professor'),\n",
        "    y=alt.Y('ANNUAL_RATE:Q', title='Average Annual Rate')\n",
        ").properties(\n",
        "    title='Average Annual Rate'\n",
        ")"
      ],
      "metadata": {
        "id": "VqjoyhB1CbkJ"
      },
      "execution_count": null,
      "outputs": []
    },
    {
      "cell_type": "code",
      "source": [
        "chart"
      ],
      "metadata": {
        "id": "9zWtuZXfCoP6"
      },
      "execution_count": null,
      "outputs": []
    },
    {
      "source": [
        "from matplotlib import pyplot as plt\n",
        "_df_11.plot(kind='scatter', x='ANNUAL_RATE', y='RATING', s=32, alpha=.8)\n",
        "plt.gca().spines[['top', 'right',]].set_visible(False)"
      ],
      "cell_type": "code",
      "metadata": {
        "id": "DbH2DF-DA4L1"
      },
      "execution_count": null,
      "outputs": []
    },
    {
      "source": [
        "from matplotlib import pyplot as plt\n",
        "_df_12.plot(kind='scatter', x='RATING', y='NUM_RATINGS', s=32, alpha=.8)\n",
        "plt.gca().spines[['top', 'right',]].set_visible(False)"
      ],
      "cell_type": "code",
      "metadata": {
        "id": "zTRZfmfpA0uA"
      },
      "execution_count": null,
      "outputs": []
    },
    {
      "cell_type": "code",
      "source": [
        "average_rate['Computer Science']"
      ],
      "metadata": {
        "colab": {
          "base_uri": "https://localhost:8080/"
        },
        "id": "WE6HHZBo6gAd",
        "outputId": "330ad923-99f3-43a3-af1f-a5ec9af519ef"
      },
      "execution_count": null,
      "outputs": [
        {
          "output_type": "execute_result",
          "data": {
            "text/plain": [
              "114155.13481818182"
            ]
          },
          "metadata": {},
          "execution_count": 123
        }
      ]
    },
    {
      "cell_type": "code",
      "source": [
        "average_rate_df = df.groupby('DEPARTMENT')['ANNUAL_RATE'].mean().reset_index()"
      ],
      "metadata": {
        "id": "UQGkHj-kBUgZ"
      },
      "execution_count": null,
      "outputs": []
    },
    {
      "cell_type": "code",
      "source": [
        "chart = alt.Chart(average_rate_df).mark_bar().encode(\n",
        "    x=alt.X('DEPARTMENT:N', title='Department'),\n",
        "    y=alt.Y('ANNUAL_RATE:Q', title='Average Annual Rate')\n",
        ").properties(\n",
        "    title='Average Annual Rate by Department'\n",
        ")"
      ],
      "metadata": {
        "id": "30dJjF2M-s8a"
      },
      "execution_count": null,
      "outputs": []
    },
    {
      "cell_type": "code",
      "source": [
        "chart"
      ],
      "metadata": {
        "id": "LbzalGEGBN-M"
      },
      "execution_count": null,
      "outputs": []
    },
    {
      "cell_type": "code",
      "source": [],
      "metadata": {
        "id": "muIe8a1uBZr7"
      },
      "execution_count": null,
      "outputs": []
    }
  ]
}